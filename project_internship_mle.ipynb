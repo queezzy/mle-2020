{
 "cells": [
  {
   "cell_type": "markdown",
   "metadata": {
    "id": "lp_axZQrhGQz"
   },
   "source": [
    "\n",
    "# Intro\n"
   ]
  },
  {
   "cell_type": "markdown",
   "metadata": {
    "id": "NvQTANJbO92-"
   },
   "source": [
    "**Notes**\n",
    "\n",
    "The main bulk of the material comes from https://developers.google.com/machine-learning/recommendation/overview/candidate-generation. If you want to go further later, you can take a look at http://nicolas-hug.com/blog/matrix_facto_3. It is absolutely not expected to look at these two links for the interviews  or to complete the test."
   ]
  },
  {
   "cell_type": "markdown",
   "metadata": {
    "id": "fWJwwtLUeGn3"
   },
   "source": [
    "**Context**: \n",
    "\n",
    "We want to build a movies' recommender in order to get new movies to watch during the lock down. We will base our work on a variation of the MovieLens dataset. \n",
    "The data consists of movies seen by the users, some informations about the movies, and some informations about the users. The problem consists in predicting which movies a given user might like.\n",
    "\n",
    "We are presenting you here first a naive approach in order to familarize yourself with the problem and show you how it might be solved.\n",
    "\n",
    "**Task**:\n",
    "\n",
    "The code presented is a first implementation but has a number of shortcomings in its structure and features (more on that in the conclusion). Your task consist in producing a refactoring, so as to be one step closer to a \"clean\" code.\n",
    "\n",
    "**Evaluation**:\n",
    "\n",
    "Our goal here is two fold:\n",
    "- See how you understand a problem and adapt to an already given approach to tackle it.\n",
    "- See how you can design new features.\n",
    "- See how you manipulate python code: understanding, ideas to refactor etc ...\n",
    "\n",
    "The projects will be evaluated on the quality of the source code produced."
   ]
  },
  {
   "cell_type": "markdown",
   "metadata": {},
   "source": [
    "## ----------- WE START OUR CODE HERE ----------------------------------------"
   ]
  },
  {
   "cell_type": "markdown",
   "metadata": {},
   "source": [
    "## Step 0 - Business Understanding"
   ]
  },
  {
   "cell_type": "markdown",
   "metadata": {},
   "source": [
    "The given subject consists on a movie recommandation engine. We have a set of ratings given by users to a specific movie, and the goal is to recommend accurate movie to a specific user. A content based approach has been proposed and our task is to see how we can improve it in a clearer code manner.\n",
    "\n",
    "No evaluation metric has been suggested. The datasets are mainly csv files.\n",
    "\n",
    "Time limited to 4 hours\n",
    "\n",
    "\n",
    "**We propose ourself to tackle the problem of recommandation by following a simplified version of the CRISP-DM approach and explain each step of our process to ease the comprehension for other Data scientist and MLE, and to easily explain our choices to the businesss. We also include in it the task of providing a clean strutured code**"
   ]
  },
  {
   "cell_type": "markdown",
   "metadata": {},
   "source": [
    "# Step 1 - Data Understanding"
   ]
  },
  {
   "cell_type": "markdown",
   "metadata": {
    "id": "C09qoiwchTfd"
   },
   "source": [
    "## 1.1 Data collection\n",
    "\n",
    "First, let's load our datasets from the given sources. Our sources consist on 3 csv files, representing users, movies and the ratings given by users on some movies"
   ]
  },
  {
   "cell_type": "code",
   "execution_count": 381,
   "metadata": {},
   "outputs": [],
   "source": [
    "#!pipenv install matplotlib\n",
    "import pandas as pd\n",
    "\n",
    "\"\"\"\n",
    "Load all datasets from csv files\n",
    "* input : A list of dataset paths\n",
    "* return a list of dataframes\n",
    "\"\"\"\n",
    "\n",
    "def load_all_datasets(path_to_all_datasets):\n",
    "    \n",
    "    all_dataframes = []\n",
    "    \n",
    "    try:\n",
    "        for path in path_to_all_datasets:\n",
    "            all_dataframes.append(pd.read_csv(path))\n",
    "        return all_dataframes\n",
    "    except:\n",
    "        return None"
   ]
  },
  {
   "cell_type": "code",
   "execution_count": 382,
   "metadata": {
    "colab": {
     "base_uri": "https://localhost:8080/",
     "height": 278
    },
    "id": "M4w1EYJrdvVA",
    "outputId": "c53c2a48-ddfc-40c8-e2a1-9130681cfd51"
   },
   "outputs": [],
   "source": [
    "users,movies,ratings = load_all_datasets([\"data/users.csv\",\"data/movies.csv\",\"data/ratings.csv\"])"
   ]
  },
  {
   "cell_type": "code",
   "execution_count": 383,
   "metadata": {},
   "outputs": [
    {
     "name": "stdout",
     "output_type": "stream",
     "text": [
      "(6040, 5)\n"
     ]
    },
    {
     "data": {
      "text/html": [
       "<div>\n",
       "<style scoped>\n",
       "    .dataframe tbody tr th:only-of-type {\n",
       "        vertical-align: middle;\n",
       "    }\n",
       "\n",
       "    .dataframe tbody tr th {\n",
       "        vertical-align: top;\n",
       "    }\n",
       "\n",
       "    .dataframe thead th {\n",
       "        text-align: right;\n",
       "    }\n",
       "</style>\n",
       "<table border=\"1\" class=\"dataframe\">\n",
       "  <thead>\n",
       "    <tr style=\"text-align: right;\">\n",
       "      <th></th>\n",
       "      <th>user_id</th>\n",
       "      <th>gender</th>\n",
       "      <th>age</th>\n",
       "      <th>occupation</th>\n",
       "      <th>zip_code</th>\n",
       "    </tr>\n",
       "  </thead>\n",
       "  <tbody>\n",
       "    <tr>\n",
       "      <th>0</th>\n",
       "      <td>0</td>\n",
       "      <td>F</td>\n",
       "      <td>1</td>\n",
       "      <td>10</td>\n",
       "      <td>48067</td>\n",
       "    </tr>\n",
       "    <tr>\n",
       "      <th>1</th>\n",
       "      <td>1</td>\n",
       "      <td>M</td>\n",
       "      <td>56</td>\n",
       "      <td>16</td>\n",
       "      <td>70072</td>\n",
       "    </tr>\n",
       "    <tr>\n",
       "      <th>2</th>\n",
       "      <td>2</td>\n",
       "      <td>M</td>\n",
       "      <td>25</td>\n",
       "      <td>15</td>\n",
       "      <td>55117</td>\n",
       "    </tr>\n",
       "    <tr>\n",
       "      <th>3</th>\n",
       "      <td>3</td>\n",
       "      <td>M</td>\n",
       "      <td>45</td>\n",
       "      <td>7</td>\n",
       "      <td>02460</td>\n",
       "    </tr>\n",
       "    <tr>\n",
       "      <th>4</th>\n",
       "      <td>4</td>\n",
       "      <td>M</td>\n",
       "      <td>25</td>\n",
       "      <td>20</td>\n",
       "      <td>55455</td>\n",
       "    </tr>\n",
       "  </tbody>\n",
       "</table>\n",
       "</div>"
      ],
      "text/plain": [
       "   user_id gender  age  occupation zip_code\n",
       "0        0      F    1          10    48067\n",
       "1        1      M   56          16    70072\n",
       "2        2      M   25          15    55117\n",
       "3        3      M   45           7    02460\n",
       "4        4      M   25          20    55455"
      ]
     },
     "execution_count": 383,
     "metadata": {},
     "output_type": "execute_result"
    }
   ],
   "source": [
    "print(users.shape)\n",
    "users.head()"
   ]
  },
  {
   "cell_type": "code",
   "execution_count": 384,
   "metadata": {
    "id": "1oGlGDVWfLD5"
   },
   "outputs": [
    {
     "name": "stdout",
     "output_type": "stream",
     "text": [
      "(3883, 21)\n"
     ]
    },
    {
     "data": {
      "text/html": [
       "<div>\n",
       "<style scoped>\n",
       "    .dataframe tbody tr th:only-of-type {\n",
       "        vertical-align: middle;\n",
       "    }\n",
       "\n",
       "    .dataframe tbody tr th {\n",
       "        vertical-align: top;\n",
       "    }\n",
       "\n",
       "    .dataframe thead th {\n",
       "        text-align: right;\n",
       "    }\n",
       "</style>\n",
       "<table border=\"1\" class=\"dataframe\">\n",
       "  <thead>\n",
       "    <tr style=\"text-align: right;\">\n",
       "      <th></th>\n",
       "      <th>movie_id</th>\n",
       "      <th>title</th>\n",
       "      <th>year</th>\n",
       "      <th>Animation</th>\n",
       "      <th>Children's</th>\n",
       "      <th>Comedy</th>\n",
       "      <th>Adventure</th>\n",
       "      <th>Fantasy</th>\n",
       "      <th>Romance</th>\n",
       "      <th>Drama</th>\n",
       "      <th>...</th>\n",
       "      <th>Crime</th>\n",
       "      <th>Thriller</th>\n",
       "      <th>Horror</th>\n",
       "      <th>Sci-Fi</th>\n",
       "      <th>Documentary</th>\n",
       "      <th>War</th>\n",
       "      <th>Musical</th>\n",
       "      <th>Mystery</th>\n",
       "      <th>Film-Noir</th>\n",
       "      <th>Western</th>\n",
       "    </tr>\n",
       "  </thead>\n",
       "  <tbody>\n",
       "    <tr>\n",
       "      <th>0</th>\n",
       "      <td>0</td>\n",
       "      <td>Toy Story</td>\n",
       "      <td>1995</td>\n",
       "      <td>1.0</td>\n",
       "      <td>1.0</td>\n",
       "      <td>1.0</td>\n",
       "      <td>0.0</td>\n",
       "      <td>0.0</td>\n",
       "      <td>0.0</td>\n",
       "      <td>0.0</td>\n",
       "      <td>...</td>\n",
       "      <td>0.0</td>\n",
       "      <td>0.0</td>\n",
       "      <td>0.0</td>\n",
       "      <td>0.0</td>\n",
       "      <td>0.0</td>\n",
       "      <td>0.0</td>\n",
       "      <td>0.0</td>\n",
       "      <td>0.0</td>\n",
       "      <td>0.0</td>\n",
       "      <td>0.0</td>\n",
       "    </tr>\n",
       "    <tr>\n",
       "      <th>1</th>\n",
       "      <td>1</td>\n",
       "      <td>Jumanji</td>\n",
       "      <td>1995</td>\n",
       "      <td>0.0</td>\n",
       "      <td>1.0</td>\n",
       "      <td>0.0</td>\n",
       "      <td>1.0</td>\n",
       "      <td>1.0</td>\n",
       "      <td>0.0</td>\n",
       "      <td>0.0</td>\n",
       "      <td>...</td>\n",
       "      <td>0.0</td>\n",
       "      <td>0.0</td>\n",
       "      <td>0.0</td>\n",
       "      <td>0.0</td>\n",
       "      <td>0.0</td>\n",
       "      <td>0.0</td>\n",
       "      <td>0.0</td>\n",
       "      <td>0.0</td>\n",
       "      <td>0.0</td>\n",
       "      <td>0.0</td>\n",
       "    </tr>\n",
       "    <tr>\n",
       "      <th>2</th>\n",
       "      <td>2</td>\n",
       "      <td>Grumpier Old Men</td>\n",
       "      <td>1995</td>\n",
       "      <td>0.0</td>\n",
       "      <td>0.0</td>\n",
       "      <td>1.0</td>\n",
       "      <td>0.0</td>\n",
       "      <td>0.0</td>\n",
       "      <td>1.0</td>\n",
       "      <td>0.0</td>\n",
       "      <td>...</td>\n",
       "      <td>0.0</td>\n",
       "      <td>0.0</td>\n",
       "      <td>0.0</td>\n",
       "      <td>0.0</td>\n",
       "      <td>0.0</td>\n",
       "      <td>0.0</td>\n",
       "      <td>0.0</td>\n",
       "      <td>0.0</td>\n",
       "      <td>0.0</td>\n",
       "      <td>0.0</td>\n",
       "    </tr>\n",
       "    <tr>\n",
       "      <th>3</th>\n",
       "      <td>3</td>\n",
       "      <td>Waiting to Exhale</td>\n",
       "      <td>1995</td>\n",
       "      <td>0.0</td>\n",
       "      <td>0.0</td>\n",
       "      <td>1.0</td>\n",
       "      <td>0.0</td>\n",
       "      <td>0.0</td>\n",
       "      <td>0.0</td>\n",
       "      <td>1.0</td>\n",
       "      <td>...</td>\n",
       "      <td>0.0</td>\n",
       "      <td>0.0</td>\n",
       "      <td>0.0</td>\n",
       "      <td>0.0</td>\n",
       "      <td>0.0</td>\n",
       "      <td>0.0</td>\n",
       "      <td>0.0</td>\n",
       "      <td>0.0</td>\n",
       "      <td>0.0</td>\n",
       "      <td>0.0</td>\n",
       "    </tr>\n",
       "    <tr>\n",
       "      <th>4</th>\n",
       "      <td>4</td>\n",
       "      <td>Father of the Bride Part II</td>\n",
       "      <td>1995</td>\n",
       "      <td>0.0</td>\n",
       "      <td>0.0</td>\n",
       "      <td>1.0</td>\n",
       "      <td>0.0</td>\n",
       "      <td>0.0</td>\n",
       "      <td>0.0</td>\n",
       "      <td>0.0</td>\n",
       "      <td>...</td>\n",
       "      <td>0.0</td>\n",
       "      <td>0.0</td>\n",
       "      <td>0.0</td>\n",
       "      <td>0.0</td>\n",
       "      <td>0.0</td>\n",
       "      <td>0.0</td>\n",
       "      <td>0.0</td>\n",
       "      <td>0.0</td>\n",
       "      <td>0.0</td>\n",
       "      <td>0.0</td>\n",
       "    </tr>\n",
       "  </tbody>\n",
       "</table>\n",
       "<p>5 rows × 21 columns</p>\n",
       "</div>"
      ],
      "text/plain": [
       "   movie_id                        title  year  Animation  Children's  Comedy  \\\n",
       "0         0                    Toy Story  1995        1.0         1.0     1.0   \n",
       "1         1                      Jumanji  1995        0.0         1.0     0.0   \n",
       "2         2             Grumpier Old Men  1995        0.0         0.0     1.0   \n",
       "3         3            Waiting to Exhale  1995        0.0         0.0     1.0   \n",
       "4         4  Father of the Bride Part II  1995        0.0         0.0     1.0   \n",
       "\n",
       "   Adventure  Fantasy  Romance  Drama  ...  Crime  Thriller  Horror  Sci-Fi  \\\n",
       "0        0.0      0.0      0.0    0.0  ...    0.0       0.0     0.0     0.0   \n",
       "1        1.0      1.0      0.0    0.0  ...    0.0       0.0     0.0     0.0   \n",
       "2        0.0      0.0      1.0    0.0  ...    0.0       0.0     0.0     0.0   \n",
       "3        0.0      0.0      0.0    1.0  ...    0.0       0.0     0.0     0.0   \n",
       "4        0.0      0.0      0.0    0.0  ...    0.0       0.0     0.0     0.0   \n",
       "\n",
       "   Documentary  War  Musical  Mystery  Film-Noir  Western  \n",
       "0          0.0  0.0      0.0      0.0        0.0      0.0  \n",
       "1          0.0  0.0      0.0      0.0        0.0      0.0  \n",
       "2          0.0  0.0      0.0      0.0        0.0      0.0  \n",
       "3          0.0  0.0      0.0      0.0        0.0      0.0  \n",
       "4          0.0  0.0      0.0      0.0        0.0      0.0  \n",
       "\n",
       "[5 rows x 21 columns]"
      ]
     },
     "execution_count": 384,
     "metadata": {},
     "output_type": "execute_result"
    }
   ],
   "source": [
    "print(movies.shape)\n",
    "movies.head()"
   ]
  },
  {
   "cell_type": "code",
   "execution_count": 385,
   "metadata": {
    "id": "f06rRH9OetFc"
   },
   "outputs": [
    {
     "name": "stdout",
     "output_type": "stream",
     "text": [
      "(1000209, 3)\n"
     ]
    },
    {
     "data": {
      "text/html": [
       "<div>\n",
       "<style scoped>\n",
       "    .dataframe tbody tr th:only-of-type {\n",
       "        vertical-align: middle;\n",
       "    }\n",
       "\n",
       "    .dataframe tbody tr th {\n",
       "        vertical-align: top;\n",
       "    }\n",
       "\n",
       "    .dataframe thead th {\n",
       "        text-align: right;\n",
       "    }\n",
       "</style>\n",
       "<table border=\"1\" class=\"dataframe\">\n",
       "  <thead>\n",
       "    <tr style=\"text-align: right;\">\n",
       "      <th></th>\n",
       "      <th>user_id</th>\n",
       "      <th>movie_id</th>\n",
       "      <th>rating</th>\n",
       "    </tr>\n",
       "  </thead>\n",
       "  <tbody>\n",
       "    <tr>\n",
       "      <th>0</th>\n",
       "      <td>0</td>\n",
       "      <td>1176</td>\n",
       "      <td>5</td>\n",
       "    </tr>\n",
       "    <tr>\n",
       "      <th>1</th>\n",
       "      <td>0</td>\n",
       "      <td>655</td>\n",
       "      <td>3</td>\n",
       "    </tr>\n",
       "    <tr>\n",
       "      <th>2</th>\n",
       "      <td>0</td>\n",
       "      <td>902</td>\n",
       "      <td>3</td>\n",
       "    </tr>\n",
       "    <tr>\n",
       "      <th>3</th>\n",
       "      <td>0</td>\n",
       "      <td>3339</td>\n",
       "      <td>4</td>\n",
       "    </tr>\n",
       "    <tr>\n",
       "      <th>4</th>\n",
       "      <td>0</td>\n",
       "      <td>2286</td>\n",
       "      <td>5</td>\n",
       "    </tr>\n",
       "  </tbody>\n",
       "</table>\n",
       "</div>"
      ],
      "text/plain": [
       "   user_id  movie_id  rating\n",
       "0        0      1176       5\n",
       "1        0       655       3\n",
       "2        0       902       3\n",
       "3        0      3339       4\n",
       "4        0      2286       5"
      ]
     },
     "execution_count": 385,
     "metadata": {},
     "output_type": "execute_result"
    }
   ],
   "source": [
    "print(ratings.shape)\n",
    "ratings.head()"
   ]
  },
  {
   "cell_type": "markdown",
   "metadata": {},
   "source": [
    "## 1.2 Data description and visualization"
   ]
  },
  {
   "cell_type": "markdown",
   "metadata": {},
   "source": [
    "**Before performing any analysis, we have to take a look on our dataset, check the first descriptive statistics. This can enable us to make some useful hypothesis that we will use to design a better solution**"
   ]
  },
  {
   "cell_type": "markdown",
   "metadata": {},
   "source": [
    "### User dataset"
   ]
  },
  {
   "cell_type": "code",
   "execution_count": 386,
   "metadata": {},
   "outputs": [
    {
     "data": {
      "text/plain": [
       "user_id        int64\n",
       "gender        object\n",
       "age            int64\n",
       "occupation     int64\n",
       "zip_code      object\n",
       "dtype: object"
      ]
     },
     "execution_count": 386,
     "metadata": {},
     "output_type": "execute_result"
    }
   ],
   "source": [
    "users.dtypes"
   ]
  },
  {
   "cell_type": "markdown",
   "metadata": {},
   "source": [
    "**There is a problem with the occupation type. It is supposed to be an object and not an integer. So we will transform it next, not to false our next analysis**"
   ]
  },
  {
   "cell_type": "code",
   "execution_count": 387,
   "metadata": {},
   "outputs": [],
   "source": [
    "users = users.astype({\"occupation\":\"object\"})"
   ]
  },
  {
   "cell_type": "code",
   "execution_count": 388,
   "metadata": {},
   "outputs": [
    {
     "data": {
      "text/html": [
       "<div>\n",
       "<style scoped>\n",
       "    .dataframe tbody tr th:only-of-type {\n",
       "        vertical-align: middle;\n",
       "    }\n",
       "\n",
       "    .dataframe tbody tr th {\n",
       "        vertical-align: top;\n",
       "    }\n",
       "\n",
       "    .dataframe thead th {\n",
       "        text-align: right;\n",
       "    }\n",
       "</style>\n",
       "<table border=\"1\" class=\"dataframe\">\n",
       "  <thead>\n",
       "    <tr style=\"text-align: right;\">\n",
       "      <th></th>\n",
       "      <th>user_id</th>\n",
       "      <th>age</th>\n",
       "    </tr>\n",
       "  </thead>\n",
       "  <tbody>\n",
       "    <tr>\n",
       "      <th>count</th>\n",
       "      <td>6040.000000</td>\n",
       "      <td>6040.000000</td>\n",
       "    </tr>\n",
       "    <tr>\n",
       "      <th>mean</th>\n",
       "      <td>3019.500000</td>\n",
       "      <td>30.639238</td>\n",
       "    </tr>\n",
       "    <tr>\n",
       "      <th>std</th>\n",
       "      <td>1743.742145</td>\n",
       "      <td>12.895962</td>\n",
       "    </tr>\n",
       "    <tr>\n",
       "      <th>min</th>\n",
       "      <td>0.000000</td>\n",
       "      <td>1.000000</td>\n",
       "    </tr>\n",
       "    <tr>\n",
       "      <th>25%</th>\n",
       "      <td>1509.750000</td>\n",
       "      <td>25.000000</td>\n",
       "    </tr>\n",
       "    <tr>\n",
       "      <th>50%</th>\n",
       "      <td>3019.500000</td>\n",
       "      <td>25.000000</td>\n",
       "    </tr>\n",
       "    <tr>\n",
       "      <th>75%</th>\n",
       "      <td>4529.250000</td>\n",
       "      <td>35.000000</td>\n",
       "    </tr>\n",
       "    <tr>\n",
       "      <th>max</th>\n",
       "      <td>6039.000000</td>\n",
       "      <td>56.000000</td>\n",
       "    </tr>\n",
       "  </tbody>\n",
       "</table>\n",
       "</div>"
      ],
      "text/plain": [
       "           user_id          age\n",
       "count  6040.000000  6040.000000\n",
       "mean   3019.500000    30.639238\n",
       "std    1743.742145    12.895962\n",
       "min       0.000000     1.000000\n",
       "25%    1509.750000    25.000000\n",
       "50%    3019.500000    25.000000\n",
       "75%    4529.250000    35.000000\n",
       "max    6039.000000    56.000000"
      ]
     },
     "execution_count": 388,
     "metadata": {},
     "output_type": "execute_result"
    }
   ],
   "source": [
    "users.describe()"
   ]
  },
  {
   "cell_type": "code",
   "execution_count": 389,
   "metadata": {},
   "outputs": [
    {
     "data": {
      "text/plain": [
       "user_id       0\n",
       "gender        0\n",
       "age           0\n",
       "occupation    0\n",
       "zip_code      0\n",
       "dtype: int64"
      ]
     },
     "execution_count": 389,
     "metadata": {},
     "output_type": "execute_result"
    }
   ],
   "source": [
    "users.isnull().sum()"
   ]
  },
  {
   "cell_type": "markdown",
   "metadata": {},
   "source": [
    "The user table consist on 6040 entries. Each user is identified by 5 attributes:\n",
    "* user_id : A unique id to locate each user in the dataset\n",
    "* gender : An attribute representing the gender of the user. This is categorical variable\n",
    "* occupation : It looks like representing the occupation category of the user. But we can see that it has been interpreted as an integer type, thus we will need to correct it\n",
    "* Age : The age of the user. An integer ranging from 1 to 56.\n",
    "* zipcode : the code representing the location of the user\n",
    "\n",
    "**Main highlights**\n",
    "* We have a minimum value of age set at 1, but we all know that a child cannot rate a movie, thus this might be an outlier. To be seen when plotting data distribution\n",
    "* There are no null values. This is a good news"
   ]
  },
  {
   "cell_type": "markdown",
   "metadata": {},
   "source": [
    "**Let's visualize the user dataset**"
   ]
  },
  {
   "cell_type": "code",
   "execution_count": 390,
   "metadata": {},
   "outputs": [],
   "source": [
    "import matplotlib.pyplot as plt\n",
    "\n",
    "def visualize_user_dataset(user_dataset):\n",
    "        fig, axes = plt.subplots(1,2)\n",
    "        axes[0].boxplot(user_dataset[\"age\"])\n",
    "        axes[0].set_title(\"Age boxplot distribution\")\n",
    "        \n",
    "        axes[1].hist(user_dataset[\"occupation\"])\n",
    "        axes[1].set_title(\"Occupation distribution\")\n",
    "        \n",
    "        plt.tight_layout()\n",
    "        "
   ]
  },
  {
   "cell_type": "code",
   "execution_count": 391,
   "metadata": {},
   "outputs": [
    {
     "data": {
      "image/png": "[encoded data removed]",
      "text/plain": [
       "<Figure size 432x288 with 2 Axes>"
      ]
     },
     "metadata": {
      "needs_background": "light"
     },
     "output_type": "display_data"
    }
   ],
   "source": [
    "visualize_user_dataset(users)"
   ]
  },
  {
   "cell_type": "markdown",
   "metadata": {},
   "source": [
    "**Main highlights**\n",
    "* As said previously there is an outlier concerning the user with 1 year old. But there is also an outlier above the age of 50\n",
    "* Most users in our dataset have occupation category number 0,1, 4, 5, 17"
   ]
  },
  {
   "cell_type": "markdown",
   "metadata": {},
   "source": [
    "### Movies dataset"
   ]
  },
  {
   "cell_type": "code",
   "execution_count": 392,
   "metadata": {},
   "outputs": [
    {
     "data": {
      "text/plain": [
       "movie_id         int64\n",
       "title           object\n",
       "year             int64\n",
       "Animation      float64\n",
       "Children's     float64\n",
       "Comedy         float64\n",
       "Adventure      float64\n",
       "Fantasy        float64\n",
       "Romance        float64\n",
       "Drama          float64\n",
       "Action         float64\n",
       "Crime          float64\n",
       "Thriller       float64\n",
       "Horror         float64\n",
       "Sci-Fi         float64\n",
       "Documentary    float64\n",
       "War            float64\n",
       "Musical        float64\n",
       "Mystery        float64\n",
       "Film-Noir      float64\n",
       "Western        float64\n",
       "dtype: object"
      ]
     },
     "execution_count": 392,
     "metadata": {},
     "output_type": "execute_result"
    }
   ],
   "source": [
    "movies.dtypes"
   ]
  },
  {
   "cell_type": "code",
   "execution_count": 393,
   "metadata": {},
   "outputs": [
    {
     "data": {
      "text/html": [
       "<div>\n",
       "<style scoped>\n",
       "    .dataframe tbody tr th:only-of-type {\n",
       "        vertical-align: middle;\n",
       "    }\n",
       "\n",
       "    .dataframe tbody tr th {\n",
       "        vertical-align: top;\n",
       "    }\n",
       "\n",
       "    .dataframe thead th {\n",
       "        text-align: right;\n",
       "    }\n",
       "</style>\n",
       "<table border=\"1\" class=\"dataframe\">\n",
       "  <thead>\n",
       "    <tr style=\"text-align: right;\">\n",
       "      <th></th>\n",
       "      <th>movie_id</th>\n",
       "      <th>year</th>\n",
       "      <th>Animation</th>\n",
       "      <th>Children's</th>\n",
       "      <th>Comedy</th>\n",
       "      <th>Adventure</th>\n",
       "      <th>Fantasy</th>\n",
       "      <th>Romance</th>\n",
       "      <th>Drama</th>\n",
       "      <th>Action</th>\n",
       "      <th>Crime</th>\n",
       "      <th>Thriller</th>\n",
       "      <th>Horror</th>\n",
       "      <th>Sci-Fi</th>\n",
       "      <th>Documentary</th>\n",
       "      <th>War</th>\n",
       "      <th>Musical</th>\n",
       "      <th>Mystery</th>\n",
       "      <th>Film-Noir</th>\n",
       "      <th>Western</th>\n",
       "    </tr>\n",
       "  </thead>\n",
       "  <tbody>\n",
       "    <tr>\n",
       "      <th>count</th>\n",
       "      <td>3883.000000</td>\n",
       "      <td>3883.000000</td>\n",
       "      <td>3883.000000</td>\n",
       "      <td>3883.000000</td>\n",
       "      <td>3883.000000</td>\n",
       "      <td>3883.000000</td>\n",
       "      <td>3883.000000</td>\n",
       "      <td>3883.000000</td>\n",
       "      <td>3883.000000</td>\n",
       "      <td>3883.000000</td>\n",
       "      <td>3883.000000</td>\n",
       "      <td>3883.000000</td>\n",
       "      <td>3883.000000</td>\n",
       "      <td>3883.000000</td>\n",
       "      <td>3883.000000</td>\n",
       "      <td>3883.000000</td>\n",
       "      <td>3883.000000</td>\n",
       "      <td>3883.000000</td>\n",
       "      <td>3883.000000</td>\n",
       "      <td>3883.000000</td>\n",
       "    </tr>\n",
       "    <tr>\n",
       "      <th>mean</th>\n",
       "      <td>1941.000000</td>\n",
       "      <td>1986.066959</td>\n",
       "      <td>0.027041</td>\n",
       "      <td>0.064641</td>\n",
       "      <td>0.309039</td>\n",
       "      <td>0.072882</td>\n",
       "      <td>0.017512</td>\n",
       "      <td>0.121298</td>\n",
       "      <td>0.412825</td>\n",
       "      <td>0.129539</td>\n",
       "      <td>0.054339</td>\n",
       "      <td>0.126706</td>\n",
       "      <td>0.088334</td>\n",
       "      <td>0.071079</td>\n",
       "      <td>0.032707</td>\n",
       "      <td>0.036827</td>\n",
       "      <td>0.029359</td>\n",
       "      <td>0.027298</td>\n",
       "      <td>0.011331</td>\n",
       "      <td>0.017512</td>\n",
       "    </tr>\n",
       "    <tr>\n",
       "      <th>std</th>\n",
       "      <td>1121.069876</td>\n",
       "      <td>16.895690</td>\n",
       "      <td>0.162224</td>\n",
       "      <td>0.245923</td>\n",
       "      <td>0.462157</td>\n",
       "      <td>0.259976</td>\n",
       "      <td>0.131187</td>\n",
       "      <td>0.326515</td>\n",
       "      <td>0.492405</td>\n",
       "      <td>0.335839</td>\n",
       "      <td>0.226715</td>\n",
       "      <td>0.332686</td>\n",
       "      <td>0.283816</td>\n",
       "      <td>0.256990</td>\n",
       "      <td>0.177891</td>\n",
       "      <td>0.188362</td>\n",
       "      <td>0.168832</td>\n",
       "      <td>0.162973</td>\n",
       "      <td>0.105858</td>\n",
       "      <td>0.131187</td>\n",
       "    </tr>\n",
       "    <tr>\n",
       "      <th>min</th>\n",
       "      <td>0.000000</td>\n",
       "      <td>1919.000000</td>\n",
       "      <td>0.000000</td>\n",
       "      <td>0.000000</td>\n",
       "      <td>0.000000</td>\n",
       "      <td>0.000000</td>\n",
       "      <td>0.000000</td>\n",
       "      <td>0.000000</td>\n",
       "      <td>0.000000</td>\n",
       "      <td>0.000000</td>\n",
       "      <td>0.000000</td>\n",
       "      <td>0.000000</td>\n",
       "      <td>0.000000</td>\n",
       "      <td>0.000000</td>\n",
       "      <td>0.000000</td>\n",
       "      <td>0.000000</td>\n",
       "      <td>0.000000</td>\n",
       "      <td>0.000000</td>\n",
       "      <td>0.000000</td>\n",
       "      <td>0.000000</td>\n",
       "    </tr>\n",
       "    <tr>\n",
       "      <th>25%</th>\n",
       "      <td>970.500000</td>\n",
       "      <td>1982.000000</td>\n",
       "      <td>0.000000</td>\n",
       "      <td>0.000000</td>\n",
       "      <td>0.000000</td>\n",
       "      <td>0.000000</td>\n",
       "      <td>0.000000</td>\n",
       "      <td>0.000000</td>\n",
       "      <td>0.000000</td>\n",
       "      <td>0.000000</td>\n",
       "      <td>0.000000</td>\n",
       "      <td>0.000000</td>\n",
       "      <td>0.000000</td>\n",
       "      <td>0.000000</td>\n",
       "      <td>0.000000</td>\n",
       "      <td>0.000000</td>\n",
       "      <td>0.000000</td>\n",
       "      <td>0.000000</td>\n",
       "      <td>0.000000</td>\n",
       "      <td>0.000000</td>\n",
       "    </tr>\n",
       "    <tr>\n",
       "      <th>50%</th>\n",
       "      <td>1941.000000</td>\n",
       "      <td>1994.000000</td>\n",
       "      <td>0.000000</td>\n",
       "      <td>0.000000</td>\n",
       "      <td>0.000000</td>\n",
       "      <td>0.000000</td>\n",
       "      <td>0.000000</td>\n",
       "      <td>0.000000</td>\n",
       "      <td>0.000000</td>\n",
       "      <td>0.000000</td>\n",
       "      <td>0.000000</td>\n",
       "      <td>0.000000</td>\n",
       "      <td>0.000000</td>\n",
       "      <td>0.000000</td>\n",
       "      <td>0.000000</td>\n",
       "      <td>0.000000</td>\n",
       "      <td>0.000000</td>\n",
       "      <td>0.000000</td>\n",
       "      <td>0.000000</td>\n",
       "      <td>0.000000</td>\n",
       "    </tr>\n",
       "    <tr>\n",
       "      <th>75%</th>\n",
       "      <td>2911.500000</td>\n",
       "      <td>1997.000000</td>\n",
       "      <td>0.000000</td>\n",
       "      <td>0.000000</td>\n",
       "      <td>1.000000</td>\n",
       "      <td>0.000000</td>\n",
       "      <td>0.000000</td>\n",
       "      <td>0.000000</td>\n",
       "      <td>1.000000</td>\n",
       "      <td>0.000000</td>\n",
       "      <td>0.000000</td>\n",
       "      <td>0.000000</td>\n",
       "      <td>0.000000</td>\n",
       "      <td>0.000000</td>\n",
       "      <td>0.000000</td>\n",
       "      <td>0.000000</td>\n",
       "      <td>0.000000</td>\n",
       "      <td>0.000000</td>\n",
       "      <td>0.000000</td>\n",
       "      <td>0.000000</td>\n",
       "    </tr>\n",
       "    <tr>\n",
       "      <th>max</th>\n",
       "      <td>3882.000000</td>\n",
       "      <td>2000.000000</td>\n",
       "      <td>1.000000</td>\n",
       "      <td>1.000000</td>\n",
       "      <td>1.000000</td>\n",
       "      <td>1.000000</td>\n",
       "      <td>1.000000</td>\n",
       "      <td>1.000000</td>\n",
       "      <td>1.000000</td>\n",
       "      <td>1.000000</td>\n",
       "      <td>1.000000</td>\n",
       "      <td>1.000000</td>\n",
       "      <td>1.000000</td>\n",
       "      <td>1.000000</td>\n",
       "      <td>1.000000</td>\n",
       "      <td>1.000000</td>\n",
       "      <td>1.000000</td>\n",
       "      <td>1.000000</td>\n",
       "      <td>1.000000</td>\n",
       "      <td>1.000000</td>\n",
       "    </tr>\n",
       "  </tbody>\n",
       "</table>\n",
       "</div>"
      ],
      "text/plain": [
       "          movie_id         year    Animation   Children's       Comedy  \\\n",
       "count  3883.000000  3883.000000  3883.000000  3883.000000  3883.000000   \n",
       "mean   1941.000000  1986.066959     0.027041     0.064641     0.309039   \n",
       "std    1121.069876    16.895690     0.162224     0.245923     0.462157   \n",
       "min       0.000000  1919.000000     0.000000     0.000000     0.000000   \n",
       "25%     970.500000  1982.000000     0.000000     0.000000     0.000000   \n",
       "50%    1941.000000  1994.000000     0.000000     0.000000     0.000000   \n",
       "75%    2911.500000  1997.000000     0.000000     0.000000     1.000000   \n",
       "max    3882.000000  2000.000000     1.000000     1.000000     1.000000   \n",
       "\n",
       "         Adventure      Fantasy      Romance        Drama       Action  \\\n",
       "count  3883.000000  3883.000000  3883.000000  3883.000000  3883.000000   \n",
       "mean      0.072882     0.017512     0.121298     0.412825     0.129539   \n",
       "std       0.259976     0.131187     0.326515     0.492405     0.335839   \n",
       "min       0.000000     0.000000     0.000000     0.000000     0.000000   \n",
       "25%       0.000000     0.000000     0.000000     0.000000     0.000000   \n",
       "50%       0.000000     0.000000     0.000000     0.000000     0.000000   \n",
       "75%       0.000000     0.000000     0.000000     1.000000     0.000000   \n",
       "max       1.000000     1.000000     1.000000     1.000000     1.000000   \n",
       "\n",
       "             Crime     Thriller       Horror       Sci-Fi  Documentary  \\\n",
       "count  3883.000000  3883.000000  3883.000000  3883.000000  3883.000000   \n",
       "mean      0.054339     0.126706     0.088334     0.071079     0.032707   \n",
       "std       0.226715     0.332686     0.283816     0.256990     0.177891   \n",
       "min       0.000000     0.000000     0.000000     0.000000     0.000000   \n",
       "25%       0.000000     0.000000     0.000000     0.000000     0.000000   \n",
       "50%       0.000000     0.000000     0.000000     0.000000     0.000000   \n",
       "75%       0.000000     0.000000     0.000000     0.000000     0.000000   \n",
       "max       1.000000     1.000000     1.000000     1.000000     1.000000   \n",
       "\n",
       "               War      Musical      Mystery    Film-Noir      Western  \n",
       "count  3883.000000  3883.000000  3883.000000  3883.000000  3883.000000  \n",
       "mean      0.036827     0.029359     0.027298     0.011331     0.017512  \n",
       "std       0.188362     0.168832     0.162973     0.105858     0.131187  \n",
       "min       0.000000     0.000000     0.000000     0.000000     0.000000  \n",
       "25%       0.000000     0.000000     0.000000     0.000000     0.000000  \n",
       "50%       0.000000     0.000000     0.000000     0.000000     0.000000  \n",
       "75%       0.000000     0.000000     0.000000     0.000000     0.000000  \n",
       "max       1.000000     1.000000     1.000000     1.000000     1.000000  "
      ]
     },
     "execution_count": 393,
     "metadata": {},
     "output_type": "execute_result"
    }
   ],
   "source": [
    "movies.describe()"
   ]
  },
  {
   "cell_type": "code",
   "execution_count": 394,
   "metadata": {},
   "outputs": [
    {
     "data": {
      "text/plain": [
       "movie_id       0\n",
       "title          0\n",
       "year           0\n",
       "Animation      0\n",
       "Children's     0\n",
       "Comedy         0\n",
       "Adventure      0\n",
       "Fantasy        0\n",
       "Romance        0\n",
       "Drama          0\n",
       "Action         0\n",
       "Crime          0\n",
       "Thriller       0\n",
       "Horror         0\n",
       "Sci-Fi         0\n",
       "Documentary    0\n",
       "War            0\n",
       "Musical        0\n",
       "Mystery        0\n",
       "Film-Noir      0\n",
       "Western        0\n",
       "dtype: int64"
      ]
     },
     "execution_count": 394,
     "metadata": {},
     "output_type": "execute_result"
    }
   ],
   "source": [
    "movies.isnull().sum()"
   ]
  },
  {
   "cell_type": "markdown",
   "metadata": {},
   "source": [
    "The movies dataset consist on 3883 entries describe by 21 attributes.\n",
    "* movie_id : It represents a unique id identifying a specific movie\n",
    "* title : It represents the title of the movie\n",
    "* year : The year when the movie was released\n",
    "* 18 Other attributes representing the genre to which the movie can be assimilated. They consist on binary values. 0 if the movie does not belong to that genre or 1 otherwise"
   ]
  },
  {
   "cell_type": "code",
   "execution_count": 395,
   "metadata": {},
   "outputs": [],
   "source": [
    "def visualize_movie_dataset(movie_dataset, not_genre_columns):\n",
    "    \n",
    "    movie_dataset.sum()[list(set(movie_dataset.columns.to_list())-set(not_genre_columns))].plot(kind=\"bar\")\n",
    "    "
   ]
  },
  {
   "cell_type": "code",
   "execution_count": 396,
   "metadata": {},
   "outputs": [
    {
     "data": {
      "image/png": "[encoded data removed]",
      "text/plain": [
       "<Figure size 432x288 with 1 Axes>"
      ]
     },
     "metadata": {
      "needs_background": "light"
     },
     "output_type": "display_data"
    }
   ],
   "source": [
    "visualize_movie_dataset(movies, [\"title\",\"year\",\"movie_id\"])"
   ]
  },
  {
   "cell_type": "markdown",
   "metadata": {
    "jupyter": {
     "outputs_hidden": true
    }
   },
   "source": [
    "**Most films are Drama, Comedy and Action**"
   ]
  },
  {
   "cell_type": "markdown",
   "metadata": {},
   "source": [
    "### Movie Ratings"
   ]
  },
  {
   "cell_type": "code",
   "execution_count": 397,
   "metadata": {},
   "outputs": [
    {
     "data": {
      "text/html": [
       "<div>\n",
       "<style scoped>\n",
       "    .dataframe tbody tr th:only-of-type {\n",
       "        vertical-align: middle;\n",
       "    }\n",
       "\n",
       "    .dataframe tbody tr th {\n",
       "        vertical-align: top;\n",
       "    }\n",
       "\n",
       "    .dataframe thead th {\n",
       "        text-align: right;\n",
       "    }\n",
       "</style>\n",
       "<table border=\"1\" class=\"dataframe\">\n",
       "  <thead>\n",
       "    <tr style=\"text-align: right;\">\n",
       "      <th></th>\n",
       "      <th>user_id</th>\n",
       "      <th>movie_id</th>\n",
       "      <th>rating</th>\n",
       "    </tr>\n",
       "  </thead>\n",
       "  <tbody>\n",
       "    <tr>\n",
       "      <th>count</th>\n",
       "      <td>1.000209e+06</td>\n",
       "      <td>1.000209e+06</td>\n",
       "      <td>1.000209e+06</td>\n",
       "    </tr>\n",
       "    <tr>\n",
       "      <th>mean</th>\n",
       "      <td>3.023512e+03</td>\n",
       "      <td>1.823039e+03</td>\n",
       "      <td>3.581564e+00</td>\n",
       "    </tr>\n",
       "    <tr>\n",
       "      <th>std</th>\n",
       "      <td>1.728413e+03</td>\n",
       "      <td>1.070174e+03</td>\n",
       "      <td>1.117102e+00</td>\n",
       "    </tr>\n",
       "    <tr>\n",
       "      <th>min</th>\n",
       "      <td>0.000000e+00</td>\n",
       "      <td>0.000000e+00</td>\n",
       "      <td>1.000000e+00</td>\n",
       "    </tr>\n",
       "    <tr>\n",
       "      <th>25%</th>\n",
       "      <td>1.505000e+03</td>\n",
       "      <td>1.017000e+03</td>\n",
       "      <td>3.000000e+00</td>\n",
       "    </tr>\n",
       "    <tr>\n",
       "      <th>50%</th>\n",
       "      <td>3.069000e+03</td>\n",
       "      <td>1.767000e+03</td>\n",
       "      <td>4.000000e+00</td>\n",
       "    </tr>\n",
       "    <tr>\n",
       "      <th>75%</th>\n",
       "      <td>4.475000e+03</td>\n",
       "      <td>2.701000e+03</td>\n",
       "      <td>4.000000e+00</td>\n",
       "    </tr>\n",
       "    <tr>\n",
       "      <th>max</th>\n",
       "      <td>6.039000e+03</td>\n",
       "      <td>3.882000e+03</td>\n",
       "      <td>5.000000e+00</td>\n",
       "    </tr>\n",
       "  </tbody>\n",
       "</table>\n",
       "</div>"
      ],
      "text/plain": [
       "            user_id      movie_id        rating\n",
       "count  1.000209e+06  1.000209e+06  1.000209e+06\n",
       "mean   3.023512e+03  1.823039e+03  3.581564e+00\n",
       "std    1.728413e+03  1.070174e+03  1.117102e+00\n",
       "min    0.000000e+00  0.000000e+00  1.000000e+00\n",
       "25%    1.505000e+03  1.017000e+03  3.000000e+00\n",
       "50%    3.069000e+03  1.767000e+03  4.000000e+00\n",
       "75%    4.475000e+03  2.701000e+03  4.000000e+00\n",
       "max    6.039000e+03  3.882000e+03  5.000000e+00"
      ]
     },
     "execution_count": 397,
     "metadata": {},
     "output_type": "execute_result"
    }
   ],
   "source": [
    "ratings.describe()"
   ]
  },
  {
   "cell_type": "markdown",
   "metadata": {},
   "source": [
    "Ratings consist only on the user_id, movie_id and the rating given by the user for the movie_id\n",
    "\n",
    "We have more tha 1 000 000 ratings.\n",
    "\n",
    "Ratings range from 1 to 5\n",
    "\n",
    "**Main highlights**\n",
    "* 50% of ratings are greater than 4. So half of ratings are for movies users may have already liked\n"
   ]
  },
  {
   "cell_type": "markdown",
   "metadata": {},
   "source": [
    "## Step 2 Modeling and features generation"
   ]
  },
  {
   "cell_type": "markdown",
   "metadata": {},
   "source": [
    "We will use here another hypothesis:\n",
    "* Similar user may like similar movie\n",
    "* We need to generate features representing a user and then compute the similarity between a given user and others\n",
    "* When we have the most similar users to a given one, we will recommend what the similar users have liked"
   ]
  },
  {
   "cell_type": "markdown",
   "metadata": {},
   "source": [
    "### 2.1 Feature generation"
   ]
  },
  {
   "cell_type": "markdown",
   "metadata": {},
   "source": [
    "The features representing a user are:\n",
    "* It's age\n",
    "* It's occupation. We will transform it into a set of binary columns\n",
    "* It's location (If we consider that use on the same location may like the same thing, but since we have 3439 zip code out of 6040 users, it won't be discriminative. So we will skip it\n",
    "* User can also be characterized by the movies genre they have rated. For one user , we can consider several metrics concerning a specific movie, here we will considered the count of a specific movie genre a user has rated.\n",
    "\n",
    "So we need features like this :\n",
    "\n",
    "user_id : **age , occupation_0,occupation_1,.... occupation_20, gender, num_rated_animation_movie,num_rated_horror_movie,...num_rated_war_movie**\n"
   ]
  },
  {
   "cell_type": "code",
   "execution_count": 398,
   "metadata": {},
   "outputs": [],
   "source": [
    "def generate_feature_frame(ratings,users,movies):\n",
    "\n",
    "    ratings_users = pd.merge(left=ratings,right=users,how='inner',on='user_id')\n",
    "    ratings_users_movies = pd.merge(left=ratings_users,right=movies,how='inner',on='movie_id')\n",
    "    assert ratings_users_movies.shape[0] == ratings.shape[0]\n",
    "    ratings_users_movies_cleaned = ratings_users_movies.drop(columns=[\"movie_id\",\"rating\",\"zip_code\",\"title\",\"year\"])\n",
    "    ratings_users_movies_cleaned = ratings_users_movies_cleaned.groupby(['user_id','gender','age','occupation']).agg(\"sum\").reset_index()\n",
    "    ratings_users_movies_cleaned = pd.get_dummies(data=ratings_users_movies_cleaned,columns=[\"occupation\"],prefix=[\"occupation\"],drop_first=False)\n",
    "    ratings_users_movies_cleaned = pd.get_dummies(data=ratings_users_movies_cleaned,columns=[\"gender\"],prefix=[\"gender\"],drop_first=True)\n",
    "    assert ratings_users_movies_cleaned.shape[0] == users.shape[0]\n",
    "    return ratings_users_movies_cleaned,list(set(features_matrix.columns)-set([\"user_id\"]))\n",
    "    "
   ]
  },
  {
   "cell_type": "markdown",
   "metadata": {},
   "source": [
    "**Lets have a look on our new features**"
   ]
  },
  {
   "cell_type": "code",
   "execution_count": 399,
   "metadata": {},
   "outputs": [
    {
     "data": {
      "text/html": [
       "<div>\n",
       "<style scoped>\n",
       "    .dataframe tbody tr th:only-of-type {\n",
       "        vertical-align: middle;\n",
       "    }\n",
       "\n",
       "    .dataframe tbody tr th {\n",
       "        vertical-align: top;\n",
       "    }\n",
       "\n",
       "    .dataframe thead th {\n",
       "        text-align: right;\n",
       "    }\n",
       "</style>\n",
       "<table border=\"1\" class=\"dataframe\">\n",
       "  <thead>\n",
       "    <tr style=\"text-align: right;\">\n",
       "      <th></th>\n",
       "      <th>user_id</th>\n",
       "      <th>age</th>\n",
       "      <th>Animation</th>\n",
       "      <th>Children's</th>\n",
       "      <th>Comedy</th>\n",
       "      <th>Adventure</th>\n",
       "      <th>Fantasy</th>\n",
       "      <th>Romance</th>\n",
       "      <th>Drama</th>\n",
       "      <th>Action</th>\n",
       "      <th>...</th>\n",
       "      <th>occupation_12</th>\n",
       "      <th>occupation_13</th>\n",
       "      <th>occupation_14</th>\n",
       "      <th>occupation_15</th>\n",
       "      <th>occupation_16</th>\n",
       "      <th>occupation_17</th>\n",
       "      <th>occupation_18</th>\n",
       "      <th>occupation_19</th>\n",
       "      <th>occupation_20</th>\n",
       "      <th>gender_M</th>\n",
       "    </tr>\n",
       "  </thead>\n",
       "  <tbody>\n",
       "    <tr>\n",
       "      <th>0</th>\n",
       "      <td>0</td>\n",
       "      <td>1</td>\n",
       "      <td>18.0</td>\n",
       "      <td>20.0</td>\n",
       "      <td>14.0</td>\n",
       "      <td>5.0</td>\n",
       "      <td>3.0</td>\n",
       "      <td>6.0</td>\n",
       "      <td>21.0</td>\n",
       "      <td>5.0</td>\n",
       "      <td>...</td>\n",
       "      <td>0</td>\n",
       "      <td>0</td>\n",
       "      <td>0</td>\n",
       "      <td>0</td>\n",
       "      <td>0</td>\n",
       "      <td>0</td>\n",
       "      <td>0</td>\n",
       "      <td>0</td>\n",
       "      <td>0</td>\n",
       "      <td>0</td>\n",
       "    </tr>\n",
       "    <tr>\n",
       "      <th>1</th>\n",
       "      <td>1</td>\n",
       "      <td>56</td>\n",
       "      <td>0.0</td>\n",
       "      <td>0.0</td>\n",
       "      <td>25.0</td>\n",
       "      <td>19.0</td>\n",
       "      <td>1.0</td>\n",
       "      <td>24.0</td>\n",
       "      <td>79.0</td>\n",
       "      <td>56.0</td>\n",
       "      <td>...</td>\n",
       "      <td>0</td>\n",
       "      <td>0</td>\n",
       "      <td>0</td>\n",
       "      <td>0</td>\n",
       "      <td>1</td>\n",
       "      <td>0</td>\n",
       "      <td>0</td>\n",
       "      <td>0</td>\n",
       "      <td>0</td>\n",
       "      <td>1</td>\n",
       "    </tr>\n",
       "    <tr>\n",
       "      <th>2</th>\n",
       "      <td>2</td>\n",
       "      <td>25</td>\n",
       "      <td>3.0</td>\n",
       "      <td>3.0</td>\n",
       "      <td>30.0</td>\n",
       "      <td>25.0</td>\n",
       "      <td>2.0</td>\n",
       "      <td>5.0</td>\n",
       "      <td>8.0</td>\n",
       "      <td>23.0</td>\n",
       "      <td>...</td>\n",
       "      <td>0</td>\n",
       "      <td>0</td>\n",
       "      <td>0</td>\n",
       "      <td>1</td>\n",
       "      <td>0</td>\n",
       "      <td>0</td>\n",
       "      <td>0</td>\n",
       "      <td>0</td>\n",
       "      <td>0</td>\n",
       "      <td>1</td>\n",
       "    </tr>\n",
       "    <tr>\n",
       "      <th>3</th>\n",
       "      <td>3</td>\n",
       "      <td>45</td>\n",
       "      <td>0.0</td>\n",
       "      <td>1.0</td>\n",
       "      <td>0.0</td>\n",
       "      <td>6.0</td>\n",
       "      <td>2.0</td>\n",
       "      <td>2.0</td>\n",
       "      <td>6.0</td>\n",
       "      <td>19.0</td>\n",
       "      <td>...</td>\n",
       "      <td>0</td>\n",
       "      <td>0</td>\n",
       "      <td>0</td>\n",
       "      <td>0</td>\n",
       "      <td>0</td>\n",
       "      <td>0</td>\n",
       "      <td>0</td>\n",
       "      <td>0</td>\n",
       "      <td>0</td>\n",
       "      <td>1</td>\n",
       "    </tr>\n",
       "    <tr>\n",
       "      <th>4</th>\n",
       "      <td>4</td>\n",
       "      <td>25</td>\n",
       "      <td>4.0</td>\n",
       "      <td>6.0</td>\n",
       "      <td>56.0</td>\n",
       "      <td>9.0</td>\n",
       "      <td>0.0</td>\n",
       "      <td>30.0</td>\n",
       "      <td>104.0</td>\n",
       "      <td>31.0</td>\n",
       "      <td>...</td>\n",
       "      <td>0</td>\n",
       "      <td>0</td>\n",
       "      <td>0</td>\n",
       "      <td>0</td>\n",
       "      <td>0</td>\n",
       "      <td>0</td>\n",
       "      <td>0</td>\n",
       "      <td>0</td>\n",
       "      <td>1</td>\n",
       "      <td>1</td>\n",
       "    </tr>\n",
       "  </tbody>\n",
       "</table>\n",
       "<p>5 rows × 42 columns</p>\n",
       "</div>"
      ],
      "text/plain": [
       "   user_id  age  Animation  Children's  Comedy  Adventure  Fantasy  Romance  \\\n",
       "0        0    1       18.0        20.0    14.0        5.0      3.0      6.0   \n",
       "1        1   56        0.0         0.0    25.0       19.0      1.0     24.0   \n",
       "2        2   25        3.0         3.0    30.0       25.0      2.0      5.0   \n",
       "3        3   45        0.0         1.0     0.0        6.0      2.0      2.0   \n",
       "4        4   25        4.0         6.0    56.0        9.0      0.0     30.0   \n",
       "\n",
       "   Drama  Action  ...  occupation_12  occupation_13  occupation_14  \\\n",
       "0   21.0     5.0  ...              0              0              0   \n",
       "1   79.0    56.0  ...              0              0              0   \n",
       "2    8.0    23.0  ...              0              0              0   \n",
       "3    6.0    19.0  ...              0              0              0   \n",
       "4  104.0    31.0  ...              0              0              0   \n",
       "\n",
       "   occupation_15  occupation_16  occupation_17  occupation_18  occupation_19  \\\n",
       "0              0              0              0              0              0   \n",
       "1              0              1              0              0              0   \n",
       "2              1              0              0              0              0   \n",
       "3              0              0              0              0              0   \n",
       "4              0              0              0              0              0   \n",
       "\n",
       "   occupation_20  gender_M  \n",
       "0              0         0  \n",
       "1              0         1  \n",
       "2              0         1  \n",
       "3              0         1  \n",
       "4              1         1  \n",
       "\n",
       "[5 rows x 42 columns]"
      ]
     },
     "execution_count": 399,
     "metadata": {},
     "output_type": "execute_result"
    }
   ],
   "source": [
    "features_matrix,feature_columns = generate_feature_frame(ratings,users,movies)\n",
    "features_matrix.head(5)"
   ]
  },
  {
   "cell_type": "markdown",
   "metadata": {},
   "source": [
    "### 2.2 Getting similar users"
   ]
  },
  {
   "cell_type": "markdown",
   "metadata": {},
   "source": [
    "**We need to get the similarity between our users. We want popular user to influence the movie we recommend to another user, like that we are sure that what we are going to recommend is trendy. The back-side of this is that, we are going to diminish the impact of users who do not rate a lot (To solve that we can simply normalize our vectors). But we will go without normalizing them. We will use the dot product similarity**"
   ]
  },
  {
   "cell_type": "code",
   "execution_count": 400,
   "metadata": {},
   "outputs": [],
   "source": [
    "def get_similarity_matrix(matrix):\n",
    "    return matrix.values.dot(matrix.values.T)"
   ]
  },
  {
   "cell_type": "code",
   "execution_count": 401,
   "metadata": {},
   "outputs": [],
   "source": [
    "def get_most_similar_users_id(similarity_matrix, user_id,top=10):\n",
    "    best_users = list(similarity_matrix[user_id].argsort()[-top:])\n",
    "    if user_id in best_users:\n",
    "        best_users.remove(user_id)\n",
    "    return best_users\n",
    "    "
   ]
  },
  {
   "cell_type": "markdown",
   "metadata": {},
   "source": [
    "### 2.3 Recommend movies based on similar users"
   ]
  },
  {
   "cell_type": "code",
   "execution_count": 402,
   "metadata": {},
   "outputs": [],
   "source": [
    "def get_best_rated_movies_by_user(user_id_list,ratings,movies,top_k):\n",
    "    \n",
    "    temp = pd.concat([ratings.loc[ratings[\"user_id\"]==user_id].sort_values(by='rating', ascending=False) for user_id in user_id_list],ignore_index=True)\n",
    "    return temp.sort_values(by='rating', ascending=False)[\"movie_id\"].unique()[:top_k] "
   ]
  },
  {
   "cell_type": "code",
   "execution_count": 403,
   "metadata": {},
   "outputs": [],
   "source": [
    "from content_based_filtering.helpers.movies import get_movie_id, get_movie_name, get_movie_year\n",
    "\n",
    "def get_recommendations(similarity_matrix,user_id,num_user_to_consider,num_of_movies):\n",
    "    \n",
    "    best_movies = get_best_rated_movies_by_user(get_most_similar_users_id(similarity_matrix,user_id,num_user_to_consider),ratings,movies,num_of_movies)\n",
    "    most_similars = []\n",
    "    for top_movie in best_movies:\n",
    "        most_similars.append((top_movie,get_movie_name(movies, top_movie), get_movie_year(movies, top_movie)))\n",
    "    return pd.DataFrame(most_similars, columns=[\"movie_id\",\"movie_name\",\"movie_year\"])\n"
   ]
  },
  {
   "cell_type": "code",
   "execution_count": 404,
   "metadata": {},
   "outputs": [],
   "source": [
    "user_similarity_matrix = get_similarity_matrix(features_matrix[feature_columns])"
   ]
  },
  {
   "cell_type": "markdown",
   "metadata": {},
   "source": [
    "**Recommended movies for user_id 146 based on the best movies like the 10 most similar users as user_id**"
   ]
  },
  {
   "cell_type": "code",
   "execution_count": 405,
   "metadata": {},
   "outputs": [
    {
     "data": {
      "text/html": [
       "<div>\n",
       "<style scoped>\n",
       "    .dataframe tbody tr th:only-of-type {\n",
       "        vertical-align: middle;\n",
       "    }\n",
       "\n",
       "    .dataframe tbody tr th {\n",
       "        vertical-align: top;\n",
       "    }\n",
       "\n",
       "    .dataframe thead th {\n",
       "        text-align: right;\n",
       "    }\n",
       "</style>\n",
       "<table border=\"1\" class=\"dataframe\">\n",
       "  <thead>\n",
       "    <tr style=\"text-align: right;\">\n",
       "      <th></th>\n",
       "      <th>movie_id</th>\n",
       "      <th>movie_name</th>\n",
       "      <th>movie_year</th>\n",
       "    </tr>\n",
       "  </thead>\n",
       "  <tbody>\n",
       "    <tr>\n",
       "      <th>0</th>\n",
       "      <td>1183</td>\n",
       "      <td>Good, The Bad and The Ugly, The</td>\n",
       "      <td>1966</td>\n",
       "    </tr>\n",
       "    <tr>\n",
       "      <th>1</th>\n",
       "      <td>1575</td>\n",
       "      <td>L.A. Confidential</td>\n",
       "      <td>1997</td>\n",
       "    </tr>\n",
       "    <tr>\n",
       "      <th>2</th>\n",
       "      <td>586</td>\n",
       "      <td>Dances with Wolves</td>\n",
       "      <td>1990</td>\n",
       "    </tr>\n",
       "    <tr>\n",
       "      <th>3</th>\n",
       "      <td>2367</td>\n",
       "      <td>Tea with Mussolini</td>\n",
       "      <td>1999</td>\n",
       "    </tr>\n",
       "    <tr>\n",
       "      <th>4</th>\n",
       "      <td>46</td>\n",
       "      <td>Seven (Se7en)</td>\n",
       "      <td>1995</td>\n",
       "    </tr>\n",
       "    <tr>\n",
       "      <th>...</th>\n",
       "      <td>...</td>\n",
       "      <td>...</td>\n",
       "      <td>...</td>\n",
       "    </tr>\n",
       "    <tr>\n",
       "      <th>95</th>\n",
       "      <td>1214</td>\n",
       "      <td>Boat, The (Das Boot)</td>\n",
       "      <td>1981</td>\n",
       "    </tr>\n",
       "    <tr>\n",
       "      <th>96</th>\n",
       "      <td>1313</td>\n",
       "      <td>Birds, The</td>\n",
       "      <td>1963</td>\n",
       "    </tr>\n",
       "    <tr>\n",
       "      <th>97</th>\n",
       "      <td>1349</td>\n",
       "      <td>Die Hard 2</td>\n",
       "      <td>1990</td>\n",
       "    </tr>\n",
       "    <tr>\n",
       "      <th>98</th>\n",
       "      <td>2255</td>\n",
       "      <td>Life Is Beautiful (La Vita � bella)</td>\n",
       "      <td>1997</td>\n",
       "    </tr>\n",
       "    <tr>\n",
       "      <th>99</th>\n",
       "      <td>1491</td>\n",
       "      <td>Fifth Element, The</td>\n",
       "      <td>1997</td>\n",
       "    </tr>\n",
       "  </tbody>\n",
       "</table>\n",
       "<p>100 rows × 3 columns</p>\n",
       "</div>"
      ],
      "text/plain": [
       "    movie_id                           movie_name  movie_year\n",
       "0       1183      Good, The Bad and The Ugly, The        1966\n",
       "1       1575                    L.A. Confidential        1997\n",
       "2        586                   Dances with Wolves        1990\n",
       "3       2367                   Tea with Mussolini        1999\n",
       "4         46                        Seven (Se7en)        1995\n",
       "..       ...                                  ...         ...\n",
       "95      1214                 Boat, The (Das Boot)        1981\n",
       "96      1313                           Birds, The        1963\n",
       "97      1349                           Die Hard 2        1990\n",
       "98      2255  Life Is Beautiful (La Vita � bella)        1997\n",
       "99      1491                   Fifth Element, The        1997\n",
       "\n",
       "[100 rows x 3 columns]"
      ]
     },
     "execution_count": 405,
     "metadata": {},
     "output_type": "execute_result"
    }
   ],
   "source": [
    "get_recommendations(user_similarity_matrix,10,146,100)"
   ]
  },
  {
   "cell_type": "markdown",
   "metadata": {},
   "source": [
    "## Evaluation Metric and Testing"
   ]
  },
  {
   "cell_type": "markdown",
   "metadata": {},
   "source": [
    "**The approach we can propose to evaluate our approach of recommendation based on what others like me have done, could be done by some A/B testing. Meaning that we can propose to users the movies our algorithm may propose and see if they like it or not.**\n",
    "\n",
    "**Another proposition could be, since we know the movies a user_id liked (lets say movies with rating >=4), out of those movies, what is the number of movies we succeed to capture. We can see it as the recall of user_id liked movies. Let's build that metric as the inersection of our predicted movies and the movies user_id liked**\n",
    "\n",
    "let say Z is the set of movie user_id have liked\n",
    "let say P is the set of movie we want to predict. P depends on the number of similar users used for recommendation and the number of movies we want to recommend\n",
    "\n",
    "We define :\n",
    "movie_recall_rate = count(Z intersection P)/count(Z)\n"
   ]
  },
  {
   "cell_type": "markdown",
   "metadata": {},
   "source": [
    "**Example with user_id 146**"
   ]
  },
  {
   "cell_type": "code",
   "execution_count": 406,
   "metadata": {},
   "outputs": [
    {
     "name": "stdout",
     "output_type": "stream",
     "text": [
      "0.19801980198019803\n"
     ]
    }
   ],
   "source": [
    "user_id = 146\n",
    "num_similar_users = 100\n",
    "number_recommended_movies = 100\n",
    "model_recommended_movies = get_recommendations(user_similarity_matrix,num_similar_users,user_id,number_recommended_movies)\n",
    "\n",
    "Z = set(ratings.loc[(ratings[\"user_id\"]==146) & (ratings[\"rating\"]>=4)][\"movie_id\"].values)\n",
    "P = set (model_recommended_movies[\"movie_id\"].values) \n",
    "\n",
    "print(len(Z.intersection(P))/len(Z))"
   ]
  },
  {
   "cell_type": "markdown",
   "metadata": {},
   "source": [
    "**We can see that we have succeeded in retriving some movies the user could like. Of course this metric is perfectible, but it makes us confident that we can retrieve movies that user_id may like**"
   ]
  },
  {
   "cell_type": "markdown",
   "metadata": {},
   "source": [
    "**We can then derive a test phase with compute that metric for all the predicted data, but because of time we are not going to write it here. And it won't help that much in improving our model, but rather, it is just this give us some confidence in our methodology**"
   ]
  },
  {
   "cell_type": "markdown",
   "metadata": {},
   "source": [
    "## CONCLUSION AND WRAP UP"
   ]
  },
  {
   "cell_type": "markdown",
   "metadata": {},
   "source": [
    "The goal here was to present how we can tackle down the problem of movies recommendation taking into account a first proposed procedure. After having seen what was done, the main issue was that, the content based filtering approach proposed will be recommending movies only based on the genre (category), and then it won't take into account the specifities of movies inside a category/genre. We then tried to propose a methodolofy based on what users with similar profile have done. In fact similarity between users can introduce better refinement of the model since we will propose to a user what other like him does, and the probability that he may like is higher, because according to the law of big numbers, the behaviour of a user will be in average the same as the one from user similar to him.\n",
    "\n",
    "We then start by describing our datasets, plot some graphics to have a better understanding of our data, built new features and then we built a user similarity matrix to determine user similar to another one. From similar users, we then recommend what they like.\n",
    "\n",
    "I started wrapping up all the code inside a class recommendation inside the content_based_filtering directory. But i'm obliged no to use that class because the time to complete this test has elapsed.\n",
    "\n",
    "**What can be enhanced**\n",
    "* Look for other specific algorithms such as ALS (Alternate least squares)\n",
    "* Use better test and evaluation metrics\n",
    "* Use Topic modelling"
   ]
  },
  {
   "cell_type": "code",
   "execution_count": null,
   "metadata": {},
   "outputs": [],
   "source": []
  },
  {
   "cell_type": "code",
   "execution_count": null,
   "metadata": {},
   "outputs": [],
   "source": []
  },
  {
   "cell_type": "code",
   "execution_count": null,
   "metadata": {},
   "outputs": [],
   "source": []
  },
  {
   "cell_type": "code",
   "execution_count": null,
   "metadata": {},
   "outputs": [],
   "source": []
  },
  {
   "cell_type": "code",
   "execution_count": null,
   "metadata": {},
   "outputs": [],
   "source": []
  },
  {
   "cell_type": "markdown",
   "metadata": {},
   "source": [
    "## --------- UNCHANGED PART FROM THE ORIGINAL NOTEBOOK PLEASE DO NOT CONSIDER WHAT IS BELOW. I DID NOT MODIFY IT---------"
   ]
  },
  {
   "cell_type": "markdown",
   "metadata": {
    "id": "YZVOENCtl83E"
   },
   "source": [
    "# Content-based Filtering\n",
    "\n",
    "Content-based filtering uses item features to recommend other items similar to what the user likes, based on their previous actions or explicit feedback. We dont use other users information !\n",
    "\n",
    "For example, if user `A` liked `Harry Potter 1`, he/she will like `Harry Potter 2`"
   ]
  },
  {
   "cell_type": "code",
   "execution_count": 4,
   "metadata": {
    "colab": {
     "base_uri": "https://localhost:8080/",
     "height": 322
    },
    "id": "FZ4yhO-4Zx15",
    "jupyter": {
     "source_hidden": true
    },
    "outputId": "5739f88e-b73d-497d-928d-3608df9cd724"
   },
   "outputs": [
    {
     "data": {
      "text/html": [
       "<img src='https://miro.medium.com/max/1642/1*BME1JjIlBEAI9BV5pOO5Mg.png' height=\"300\" width=\"250\"/>\n"
      ],
      "text/plain": [
       "<IPython.core.display.HTML object>"
      ]
     },
     "metadata": {},
     "output_type": "display_data"
    }
   ],
   "source": [
    "%%html\n",
    "<img src='https://miro.medium.com/max/1642/1*BME1JjIlBEAI9BV5pOO5Mg.png' height=\"300\" width=\"250\"/>"
   ]
  },
  {
   "cell_type": "markdown",
   "metadata": {
    "id": "PfVv_CVWagIo"
   },
   "source": [
    "What are similar movies ? In order to answer to this question we need to build a similiarity measure. \n",
    "\n",
    "## Features\n",
    "\n",
    "This measure will operate on the characteristics (**features**) of the movies to determine which are close. In our case, we have access to the genres of the movies. For example, the genres of `Toy Story` are: `Animation`, `Children's` and `Comedy`. This is represented as follow in our dataset:"
   ]
  },
  {
   "cell_type": "code",
   "execution_count": 4,
   "metadata": {
    "id": "1noUwSktbEUJ"
   },
   "outputs": [
    {
     "data": {
      "text/html": [
       "<div>\n",
       "<style scoped>\n",
       "    .dataframe tbody tr th:only-of-type {\n",
       "        vertical-align: middle;\n",
       "    }\n",
       "\n",
       "    .dataframe tbody tr th {\n",
       "        vertical-align: top;\n",
       "    }\n",
       "\n",
       "    .dataframe thead th {\n",
       "        text-align: right;\n",
       "    }\n",
       "</style>\n",
       "<table border=\"1\" class=\"dataframe\">\n",
       "  <thead>\n",
       "    <tr style=\"text-align: right;\">\n",
       "      <th></th>\n",
       "      <th>title</th>\n",
       "      <th>Animation</th>\n",
       "      <th>Children's</th>\n",
       "      <th>Comedy</th>\n",
       "      <th>Adventure</th>\n",
       "      <th>Fantasy</th>\n",
       "      <th>Romance</th>\n",
       "      <th>Drama</th>\n",
       "      <th>Action</th>\n",
       "      <th>Crime</th>\n",
       "      <th>Thriller</th>\n",
       "      <th>Horror</th>\n",
       "      <th>Sci-Fi</th>\n",
       "      <th>Documentary</th>\n",
       "      <th>War</th>\n",
       "      <th>Musical</th>\n",
       "      <th>Mystery</th>\n",
       "      <th>Film-Noir</th>\n",
       "      <th>Western</th>\n",
       "    </tr>\n",
       "  </thead>\n",
       "  <tbody>\n",
       "    <tr>\n",
       "      <th>0</th>\n",
       "      <td>Toy Story</td>\n",
       "      <td>1.0</td>\n",
       "      <td>1.0</td>\n",
       "      <td>1.0</td>\n",
       "      <td>0.0</td>\n",
       "      <td>0.0</td>\n",
       "      <td>0.0</td>\n",
       "      <td>0.0</td>\n",
       "      <td>0.0</td>\n",
       "      <td>0.0</td>\n",
       "      <td>0.0</td>\n",
       "      <td>0.0</td>\n",
       "      <td>0.0</td>\n",
       "      <td>0.0</td>\n",
       "      <td>0.0</td>\n",
       "      <td>0.0</td>\n",
       "      <td>0.0</td>\n",
       "      <td>0.0</td>\n",
       "      <td>0.0</td>\n",
       "    </tr>\n",
       "    <tr>\n",
       "      <th>1</th>\n",
       "      <td>Jumanji</td>\n",
       "      <td>0.0</td>\n",
       "      <td>1.0</td>\n",
       "      <td>0.0</td>\n",
       "      <td>1.0</td>\n",
       "      <td>1.0</td>\n",
       "      <td>0.0</td>\n",
       "      <td>0.0</td>\n",
       "      <td>0.0</td>\n",
       "      <td>0.0</td>\n",
       "      <td>0.0</td>\n",
       "      <td>0.0</td>\n",
       "      <td>0.0</td>\n",
       "      <td>0.0</td>\n",
       "      <td>0.0</td>\n",
       "      <td>0.0</td>\n",
       "      <td>0.0</td>\n",
       "      <td>0.0</td>\n",
       "      <td>0.0</td>\n",
       "    </tr>\n",
       "    <tr>\n",
       "      <th>2</th>\n",
       "      <td>Grumpier Old Men</td>\n",
       "      <td>0.0</td>\n",
       "      <td>0.0</td>\n",
       "      <td>1.0</td>\n",
       "      <td>0.0</td>\n",
       "      <td>0.0</td>\n",
       "      <td>1.0</td>\n",
       "      <td>0.0</td>\n",
       "      <td>0.0</td>\n",
       "      <td>0.0</td>\n",
       "      <td>0.0</td>\n",
       "      <td>0.0</td>\n",
       "      <td>0.0</td>\n",
       "      <td>0.0</td>\n",
       "      <td>0.0</td>\n",
       "      <td>0.0</td>\n",
       "      <td>0.0</td>\n",
       "      <td>0.0</td>\n",
       "      <td>0.0</td>\n",
       "    </tr>\n",
       "    <tr>\n",
       "      <th>3</th>\n",
       "      <td>Waiting to Exhale</td>\n",
       "      <td>0.0</td>\n",
       "      <td>0.0</td>\n",
       "      <td>1.0</td>\n",
       "      <td>0.0</td>\n",
       "      <td>0.0</td>\n",
       "      <td>0.0</td>\n",
       "      <td>1.0</td>\n",
       "      <td>0.0</td>\n",
       "      <td>0.0</td>\n",
       "      <td>0.0</td>\n",
       "      <td>0.0</td>\n",
       "      <td>0.0</td>\n",
       "      <td>0.0</td>\n",
       "      <td>0.0</td>\n",
       "      <td>0.0</td>\n",
       "      <td>0.0</td>\n",
       "      <td>0.0</td>\n",
       "      <td>0.0</td>\n",
       "    </tr>\n",
       "    <tr>\n",
       "      <th>4</th>\n",
       "      <td>Father of the Bride Part II</td>\n",
       "      <td>0.0</td>\n",
       "      <td>0.0</td>\n",
       "      <td>1.0</td>\n",
       "      <td>0.0</td>\n",
       "      <td>0.0</td>\n",
       "      <td>0.0</td>\n",
       "      <td>0.0</td>\n",
       "      <td>0.0</td>\n",
       "      <td>0.0</td>\n",
       "      <td>0.0</td>\n",
       "      <td>0.0</td>\n",
       "      <td>0.0</td>\n",
       "      <td>0.0</td>\n",
       "      <td>0.0</td>\n",
       "      <td>0.0</td>\n",
       "      <td>0.0</td>\n",
       "      <td>0.0</td>\n",
       "      <td>0.0</td>\n",
       "    </tr>\n",
       "  </tbody>\n",
       "</table>\n",
       "</div>"
      ],
      "text/plain": [
       "                         title  Animation  Children's  Comedy  Adventure  \\\n",
       "0                    Toy Story        1.0         1.0     1.0        0.0   \n",
       "1                      Jumanji        0.0         1.0     0.0        1.0   \n",
       "2             Grumpier Old Men        0.0         0.0     1.0        0.0   \n",
       "3            Waiting to Exhale        0.0         0.0     1.0        0.0   \n",
       "4  Father of the Bride Part II        0.0         0.0     1.0        0.0   \n",
       "\n",
       "   Fantasy  Romance  Drama  Action  Crime  Thriller  Horror  Sci-Fi  \\\n",
       "0      0.0      0.0    0.0     0.0    0.0       0.0     0.0     0.0   \n",
       "1      1.0      0.0    0.0     0.0    0.0       0.0     0.0     0.0   \n",
       "2      0.0      1.0    0.0     0.0    0.0       0.0     0.0     0.0   \n",
       "3      0.0      0.0    1.0     0.0    0.0       0.0     0.0     0.0   \n",
       "4      0.0      0.0    0.0     0.0    0.0       0.0     0.0     0.0   \n",
       "\n",
       "   Documentary  War  Musical  Mystery  Film-Noir  Western  \n",
       "0          0.0  0.0      0.0      0.0        0.0      0.0  \n",
       "1          0.0  0.0      0.0      0.0        0.0      0.0  \n",
       "2          0.0  0.0      0.0      0.0        0.0      0.0  \n",
       "3          0.0  0.0      0.0      0.0        0.0      0.0  \n",
       "4          0.0  0.0      0.0      0.0        0.0      0.0  "
      ]
     },
     "execution_count": 4,
     "metadata": {},
     "output_type": "execute_result"
    }
   ],
   "source": [
    "genre_cols = [\"Animation\", \"Children's\", \n",
    "       'Comedy', 'Adventure', 'Fantasy', 'Romance', 'Drama',\n",
    "       'Action', 'Crime', 'Thriller', 'Horror', 'Sci-Fi', 'Documentary', 'War',\n",
    "       'Musical', 'Mystery', 'Film-Noir', 'Western']\n",
    "\n",
    "genre_and_title_cols = ['title'] + genre_cols \n",
    "\n",
    "movies[genre_and_title_cols].head()"
   ]
  },
  {
   "cell_type": "markdown",
   "metadata": {
    "id": "f-jorqHSb8LA"
   },
   "source": [
    "## Similarity\n",
    "\n",
    "Now that we have some features, we will try to find a function that performs a similiarity measure. The Similarity function will take two items (two list of features) and return a number proportional to their similarity. \n",
    "\n",
    "For the following we will consider that the Similarity between two movies is the number of genres they have in common.\n",
    "\n",
    "Here is an example with `Toy Story` and `E.T`"
   ]
  },
  {
   "cell_type": "code",
   "execution_count": 5,
   "metadata": {
    "colab": {
     "base_uri": "https://localhost:8080/"
    },
    "id": "YBBh17Rfc6SJ",
    "outputId": "f854fe57-36b7-4f3c-9c8b-2d3e97726863"
   },
   "outputs": [
    {
     "data": {
      "text/plain": [
       "Animation      1.0\n",
       "Children's     1.0\n",
       "Comedy         1.0\n",
       "Adventure      0.0\n",
       "Fantasy        0.0\n",
       "Romance        0.0\n",
       "Drama          0.0\n",
       "Action         0.0\n",
       "Crime          0.0\n",
       "Thriller       0.0\n",
       "Horror         0.0\n",
       "Sci-Fi         0.0\n",
       "Documentary    0.0\n",
       "War            0.0\n",
       "Musical        0.0\n",
       "Mystery        0.0\n",
       "Film-Noir      0.0\n",
       "Western        0.0\n",
       "Name: 0, dtype: float64"
      ]
     },
     "execution_count": 5,
     "metadata": {},
     "output_type": "execute_result"
    }
   ],
   "source": [
    "toy_story_genres = movies[genre_and_title_cols].loc[movies.title == 'Toy Story'][genre_cols].iloc[0]\n",
    "toy_story_genres"
   ]
  },
  {
   "cell_type": "code",
   "execution_count": 6,
   "metadata": {
    "colab": {
     "base_uri": "https://localhost:8080/"
    },
    "id": "o6ieFMXGb7Rx",
    "outputId": "a30a5499-c875-4ef5-b4f1-9a633064a7a4"
   },
   "outputs": [
    {
     "data": {
      "text/plain": [
       "Animation      0.0\n",
       "Children's     1.0\n",
       "Comedy         0.0\n",
       "Adventure      0.0\n",
       "Fantasy        1.0\n",
       "Romance        0.0\n",
       "Drama          1.0\n",
       "Action         0.0\n",
       "Crime          0.0\n",
       "Thriller       0.0\n",
       "Horror         0.0\n",
       "Sci-Fi         1.0\n",
       "Documentary    0.0\n",
       "War            0.0\n",
       "Musical        0.0\n",
       "Mystery        0.0\n",
       "Film-Noir      0.0\n",
       "Western        0.0\n",
       "Name: 1081, dtype: float64"
      ]
     },
     "execution_count": 6,
     "metadata": {},
     "output_type": "execute_result"
    }
   ],
   "source": [
    "et_genres = movies[genre_and_title_cols].loc[movies.title == 'E.T. the Extra-Terrestrial'][genre_cols].iloc[0]\n",
    "et_genres"
   ]
  },
  {
   "cell_type": "code",
   "execution_count": 7,
   "metadata": {
    "colab": {
     "base_uri": "https://localhost:8080/"
    },
    "id": "BZ82Q6GPYa7J",
    "outputId": "1f223d04-16b6-47c8-d526-6ef2adb90ac8"
   },
   "outputs": [
    {
     "data": {
      "text/plain": [
       "Animation      0.0\n",
       "Children's     1.0\n",
       "Comedy         0.0\n",
       "Adventure      0.0\n",
       "Fantasy        0.0\n",
       "Romance        0.0\n",
       "Drama          0.0\n",
       "Action         0.0\n",
       "Crime          0.0\n",
       "Thriller       0.0\n",
       "Horror         0.0\n",
       "Sci-Fi         0.0\n",
       "Documentary    0.0\n",
       "War            0.0\n",
       "Musical        0.0\n",
       "Mystery        0.0\n",
       "Film-Noir      0.0\n",
       "Western        0.0\n",
       "Name: 0, dtype: float64"
      ]
     },
     "execution_count": 7,
     "metadata": {},
     "output_type": "execute_result"
    }
   ],
   "source": [
    "et_genres.values * toy_story_genres"
   ]
  },
  {
   "cell_type": "code",
   "execution_count": 8,
   "metadata": {
    "colab": {
     "base_uri": "https://localhost:8080/"
    },
    "id": "kqD2q2_Se12z",
    "outputId": "43d355f6-c654-4e2e-cd3c-f852e2fd234f"
   },
   "outputs": [
    {
     "data": {
      "text/plain": [
       "1.0"
      ]
     },
     "execution_count": 8,
     "metadata": {},
     "output_type": "execute_result"
    }
   ],
   "source": [
    "(et_genres.values * toy_story_genres).sum() # scalar product"
   ]
  },
  {
   "cell_type": "markdown",
   "metadata": {},
   "source": [
    "So our similarity measure returns `1.0` for these two movies. \n",
    "\n",
    "Let's see another example where we compare `Toy Stories` and `Pocahontas`"
   ]
  },
  {
   "cell_type": "code",
   "execution_count": 9,
   "metadata": {},
   "outputs": [
    {
     "data": {
      "text/plain": [
       "2.0"
      ]
     },
     "execution_count": 9,
     "metadata": {},
     "output_type": "execute_result"
    }
   ],
   "source": [
    "pocahontas_genres = movies[genre_and_title_cols].loc[movies.title == 'Pocahontas'][genre_cols].iloc[0]\n",
    "(pocahontas_genres.values * toy_story_genres).sum()"
   ]
  },
  {
   "cell_type": "markdown",
   "metadata": {},
   "source": [
    "This tels us that `Pocahontas` is closer to `Toy Stories` than `E.T.` which makes sense.\n"
   ]
  },
  {
   "cell_type": "markdown",
   "metadata": {
    "id": "X8ofE1Saoy0E"
   },
   "source": [
    "## Scaling up\n",
    "\n",
    "Ok, that's a nice measure. Now we are going to scale it up to all movies of our dataset. To do so smartly, let's take a look at the operation we just did, but from a mathematical point of view. To do so, we will think of the list of features of a movie as a vector `V`. Then, our similarity measure between `Toy Story` and `E.T.` becomes:\n",
    "$ V_{ToyStory} \\cdot V_{ET}^{T}$\n",
    "\n",
    "More generally the similarity measure between a movie `i` and another movie `j` is : $ V_{i} \\cdot V_{j}^{T}$\n",
    "\n",
    "Now we can think of `movies` as a matrix containing all features vectors describing the movies. Here is how our similiarity measure looks in this context:"
   ]
  },
  {
   "cell_type": "markdown",
   "metadata": {
    "id": "IhMxm6S1SrPb"
   },
   "source": [
    "![](imgs/dot_product_matrices.png)"
   ]
  },
  {
   "cell_type": "markdown",
   "metadata": {},
   "source": [
    "To obtain the similiarity between all movies of our dataset we have to perform the dot product of the `movies` matrix with the transposed of the `movies` matrix."
   ]
  },
  {
   "cell_type": "code",
   "execution_count": 10,
   "metadata": {
    "colab": {
     "base_uri": "https://localhost:8080/"
    },
    "id": "Sc0c4IOie14q",
    "outputId": "b53c89d7-a1b5-495a-e94e-00df0f144cc6"
   },
   "outputs": [
    {
     "data": {
      "text/plain": [
       "(3883, 3883)"
      ]
     },
     "execution_count": 10,
     "metadata": {},
     "output_type": "execute_result"
    }
   ],
   "source": [
    "similarity = movies[genre_cols].values.dot(movies[genre_cols].values.T)\n",
    "similarity.shape"
   ]
  },
  {
   "cell_type": "markdown",
   "metadata": {},
   "source": [
    "We can now get the similarity between `Toy Story` and any other movie of our dataset"
   ]
  },
  {
   "cell_type": "code",
   "execution_count": 11,
   "metadata": {
    "colab": {
     "base_uri": "https://localhost:8080/"
    },
    "id": "7NQwxobBlJ1N",
    "outputId": "81bd2069-9b05-449e-986c-2608eb04d90b"
   },
   "outputs": [
    {
     "data": {
      "text/plain": [
       "array([3., 1., 1., ..., 0., 0., 0.])"
      ]
     },
     "execution_count": 11,
     "metadata": {},
     "output_type": "execute_result"
    }
   ],
   "source": [
    "similarity_with_toy_story = similarity[0] # 0 is Toy Story\n",
    "similarity_with_toy_story"
   ]
  },
  {
   "cell_type": "code",
   "execution_count": 12,
   "metadata": {
    "colab": {
     "base_uri": "https://localhost:8080/"
    },
    "id": "TpTkvXGflZhc",
    "outputId": "e688d431-2953-419e-a14d-af1428a7e95a"
   },
   "outputs": [
    {
     "name": "stdout",
     "output_type": "stream",
     "text": [
      "Similarity between Toy story and Toy Story (index 0) is 3.0\n",
      "Similarity between Toy story and Jumanji (index 1) is 1.0\n",
      "Similarity between Toy story and Grumpier Old Men (index 2) is 1.0\n",
      "Similarity between Toy story and Waiting to Exhale (index 3) is 1.0\n",
      "Similarity between Toy story and Father of the Bride Part II (index 4) is 1.0\n",
      "Similarity between Toy story and Heat (index 5) is 0.0\n",
      "Similarity between Toy story and Sabrina (index 6) is 1.0\n",
      "Similarity between Toy story and Tom and Huck (index 7) is 1.0\n",
      "Similarity between Toy story and Sudden Death (index 8) is 0.0\n",
      "Similarity between Toy story and GoldenEye (index 9) is 0.0\n"
     ]
    }
   ],
   "source": [
    "for i in range(10):\n",
    "    print(f\"Similarity between Toy story and {movies.iloc[i]['title']} (index {i}) is {similarity_with_toy_story[i]}\")"
   ]
  },
  {
   "cell_type": "markdown",
   "metadata": {},
   "source": [
    "## A bit of polishing"
   ]
  },
  {
   "cell_type": "markdown",
   "metadata": {
    "id": "eGaBP8Y2pCBF"
   },
   "source": [
    "### Helpers:\n",
    "\n",
    "We also built some helpers to handle the movies dataset:"
   ]
  },
  {
   "cell_type": "code",
   "execution_count": 13,
   "metadata": {
    "id": "g1PpvXUOofHE"
   },
   "outputs": [
    {
     "name": "stdout",
     "output_type": "stream",
     "text": [
      "0\n",
      "1023\n",
      "Toy Story\n",
      "Parent Trap, The\n",
      "1961\n"
     ]
    }
   ],
   "source": [
    "from content_based_filtering.helpers.movies import get_movie_id, get_movie_name, get_movie_year\n",
    "    \n",
    "print (get_movie_id(movies, 'Toy Story'))\n",
    "print (get_movie_id(movies, 'Die Hard'))\n",
    "\n",
    "print (get_movie_name(movies, 0))\n",
    "print (get_movie_name(movies, 1000))\n",
    "print (get_movie_year(movies, 1000))"
   ]
  },
  {
   "cell_type": "markdown",
   "metadata": {
    "id": "osEKhTEz2-IR"
   },
   "source": [
    "### Finding similar movies:\n",
    "Here is a method giving us the movie the most similar to another movie:"
   ]
  },
  {
   "cell_type": "code",
   "execution_count": 14,
   "metadata": {
    "id": "KvKxJsLi2858"
   },
   "outputs": [],
   "source": [
    "def get_most_similar(similarity, movie_name, year=None, top=10):\n",
    "    index_movie = get_movie_id(movies, movie_name, year)\n",
    "    best = similarity[index_movie].argsort()[::-1]\n",
    "    return [(ind, get_movie_name(movies, ind), similarity[index_movie, ind]) for ind in best[:top] if ind != index_movie]"
   ]
  },
  {
   "cell_type": "code",
   "execution_count": 15,
   "metadata": {
    "colab": {
     "base_uri": "https://localhost:8080/"
    },
    "id": "McgT_CoxgM8d",
    "outputId": "755202de-fec9-476a-8725-0f04b1869c64"
   },
   "outputs": [
    {
     "data": {
      "text/plain": [
       "[(667, 'Space Jam', 3.0),\n",
       " (3685, 'Adventures of Rocky and Bullwinkle, The', 3.0),\n",
       " (3682, 'Chicken Run', 3.0),\n",
       " (2009, 'Jungle Book, The', 3.0),\n",
       " (2011, 'Lady and the Tramp', 3.0),\n",
       " (2012, 'Little Mermaid, The', 3.0),\n",
       " (2033, 'Steamboat Willie', 3.0),\n",
       " (2072, 'American Tail, An', 3.0),\n",
       " (2073, 'American Tail: Fievel Goes West, An', 3.0)]"
      ]
     },
     "execution_count": 15,
     "metadata": {},
     "output_type": "execute_result"
    }
   ],
   "source": [
    "get_most_similar(similarity, 'Toy Story')"
   ]
  },
  {
   "cell_type": "code",
   "execution_count": 16,
   "metadata": {
    "colab": {
     "base_uri": "https://localhost:8080/"
    },
    "id": "mq_uQJkstgo_",
    "outputId": "20259fc7-e55a-46ed-9efa-7154791cdaec"
   },
   "outputs": [
    {
     "data": {
      "text/plain": [
       "[(3593, \"Puppet Master III: Toulon's Revenge\", 2.0),\n",
       " (2923, 'Rawhead Rex', 2.0),\n",
       " (1312, 'Believers, The', 2.0),\n",
       " (3407, \"Jacob's Ladder\", 2.0),\n",
       " (1957, 'Disturbing Behavior', 2.0),\n",
       " (1927, 'Poltergeist III', 2.0),\n",
       " (1926, 'Poltergeist II: The Other Side', 2.0),\n",
       " (1925, 'Poltergeist', 2.0),\n",
       " (732, 'Thinner', 2.0),\n",
       " (69, 'From Dusk Till Dawn', 2.0)]"
      ]
     },
     "execution_count": 16,
     "metadata": {},
     "output_type": "execute_result"
    }
   ],
   "source": [
    "get_most_similar(similarity, 'Psycho', 1960) "
   ]
  },
  {
   "cell_type": "markdown",
   "metadata": {},
   "source": [
    "### Giving a recommendation:\n",
    "\n",
    "And finally, let's find some movies to recommend based on previously liked movies:"
   ]
  },
  {
   "cell_type": "code",
   "execution_count": 17,
   "metadata": {},
   "outputs": [
    {
     "data": {
      "text/html": [
       "<div>\n",
       "<style scoped>\n",
       "    .dataframe tbody tr th:only-of-type {\n",
       "        vertical-align: middle;\n",
       "    }\n",
       "\n",
       "    .dataframe tbody tr th {\n",
       "        vertical-align: top;\n",
       "    }\n",
       "\n",
       "    .dataframe thead th {\n",
       "        text-align: right;\n",
       "    }\n",
       "</style>\n",
       "<table border=\"1\" class=\"dataframe\">\n",
       "  <thead>\n",
       "    <tr style=\"text-align: right;\">\n",
       "      <th></th>\n",
       "      <th>movie_id</th>\n",
       "      <th>title</th>\n",
       "      <th>similarity</th>\n",
       "    </tr>\n",
       "  </thead>\n",
       "  <tbody>\n",
       "    <tr>\n",
       "      <th>13</th>\n",
       "      <td>773</td>\n",
       "      <td>Hunchback of Notre Dame, The</td>\n",
       "      <td>3.0</td>\n",
       "    </tr>\n",
       "    <tr>\n",
       "      <th>14</th>\n",
       "      <td>1526</td>\n",
       "      <td>Hercules</td>\n",
       "      <td>3.0</td>\n",
       "    </tr>\n",
       "    <tr>\n",
       "      <th>27</th>\n",
       "      <td>2072</td>\n",
       "      <td>American Tail, An</td>\n",
       "      <td>3.0</td>\n",
       "    </tr>\n",
       "    <tr>\n",
       "      <th>26</th>\n",
       "      <td>2033</td>\n",
       "      <td>Steamboat Willie</td>\n",
       "      <td>3.0</td>\n",
       "    </tr>\n",
       "    <tr>\n",
       "      <th>25</th>\n",
       "      <td>2012</td>\n",
       "      <td>Little Mermaid, The</td>\n",
       "      <td>3.0</td>\n",
       "    </tr>\n",
       "  </tbody>\n",
       "</table>\n",
       "</div>"
      ],
      "text/plain": [
       "    movie_id                         title  similarity\n",
       "13       773  Hunchback of Notre Dame, The         3.0\n",
       "14      1526                      Hercules         3.0\n",
       "27      2072             American Tail, An         3.0\n",
       "26      2033              Steamboat Willie         3.0\n",
       "25      2012           Little Mermaid, The         3.0"
      ]
     },
     "execution_count": 17,
     "metadata": {},
     "output_type": "execute_result"
    }
   ],
   "source": [
    "def get_recommendations(user_id):\n",
    "    top_movies = ratings[ratings['user_id'] == user_id].sort_values(by='rating', ascending=False).head(3)['movie_id']\n",
    "    index=['movie_id', 'title', 'similarity']\n",
    "\n",
    "    most_similars = []\n",
    "    for top_movie in top_movies:\n",
    "        most_similars += get_most_similar(similarity, get_movie_name(movies, top_movie), get_movie_year(movies, top_movie))\n",
    "\n",
    "    return pd.DataFrame(most_similars, columns=index).drop_duplicates().sort_values(by='similarity', ascending=False).head(5)\n",
    "\n",
    "get_recommendations(0)\n"
   ]
  },
  {
   "cell_type": "code",
   "execution_count": 18,
   "metadata": {},
   "outputs": [
    {
     "data": {
      "text/html": [
       "<div>\n",
       "<style scoped>\n",
       "    .dataframe tbody tr th:only-of-type {\n",
       "        vertical-align: middle;\n",
       "    }\n",
       "\n",
       "    .dataframe tbody tr th {\n",
       "        vertical-align: top;\n",
       "    }\n",
       "\n",
       "    .dataframe thead th {\n",
       "        text-align: right;\n",
       "    }\n",
       "</style>\n",
       "<table border=\"1\" class=\"dataframe\">\n",
       "  <thead>\n",
       "    <tr style=\"text-align: right;\">\n",
       "      <th></th>\n",
       "      <th>movie_id</th>\n",
       "      <th>title</th>\n",
       "      <th>similarity</th>\n",
       "    </tr>\n",
       "  </thead>\n",
       "  <tbody>\n",
       "    <tr>\n",
       "      <th>0</th>\n",
       "      <td>166</td>\n",
       "      <td>First Knight</td>\n",
       "      <td>2.0</td>\n",
       "    </tr>\n",
       "    <tr>\n",
       "      <th>2</th>\n",
       "      <td>1451</td>\n",
       "      <td>Smilla's Sense of Snow</td>\n",
       "      <td>2.0</td>\n",
       "    </tr>\n",
       "    <tr>\n",
       "      <th>3</th>\n",
       "      <td>503</td>\n",
       "      <td>Perfect World, A</td>\n",
       "      <td>2.0</td>\n",
       "    </tr>\n",
       "    <tr>\n",
       "      <th>4</th>\n",
       "      <td>3197</td>\n",
       "      <td>Man Bites Dog (C'est arriv� pr�s de chez vous)</td>\n",
       "      <td>2.0</td>\n",
       "    </tr>\n",
       "    <tr>\n",
       "      <th>5</th>\n",
       "      <td>1458</td>\n",
       "      <td>Devil's Own, The</td>\n",
       "      <td>2.0</td>\n",
       "    </tr>\n",
       "  </tbody>\n",
       "</table>\n",
       "</div>"
      ],
      "text/plain": [
       "   movie_id                                           title  similarity\n",
       "0       166                                    First Knight         2.0\n",
       "2      1451                          Smilla's Sense of Snow         2.0\n",
       "3       503                                Perfect World, A         2.0\n",
       "4      3197  Man Bites Dog (C'est arriv� pr�s de chez vous)         2.0\n",
       "5      1458                                Devil's Own, The         2.0"
      ]
     },
     "execution_count": 18,
     "metadata": {},
     "output_type": "execute_result"
    }
   ],
   "source": [
    "get_recommendations(999)"
   ]
  },
  {
   "cell_type": "markdown",
   "metadata": {
    "id": "BOeXGuBqt-j1"
   },
   "source": [
    "# Conclusion:\n",
    "\n",
    "The code presented is a first implementation but has a number of shortcomings preventing the collaboration of multiple MLE and Data Scientists:\n",
    "- It is not possible to introduce easily new features mainly because the code is just a bunch of functions in one file.\n",
    "- The code can not be scaled to other datasets or variations of the tasks.\n",
    "- There is no evaluation of the performances.\n",
    "- There is no testing\n",
    "\n",
    "Additionaly a number we could think of some features to add, for example, what about looking at similar users to find a recommendation for our targeted user ?"
   ]
  }
 ],
 "metadata": {
  "colab": {
   "collapsed_sections": [],
   "name": "project_internship_mle.ipynb",
   "provenance": [],
   "toc_visible": true
  },
  "kernelspec": {
   "display_name": "Python 3",
   "language": "python",
   "name": "python3"
  },
  "language_info": {
   "codemirror_mode": {
    "name": "ipython",
    "version": 3
   },
   "file_extension": ".py",
   "mimetype": "text/x-python",
   "name": "python",
   "nbconvert_exporter": "python",
   "pygments_lexer": "ipython3",
   "version": "3.8.3"
  }
 },
 "nbformat": 4,
 "nbformat_minor": 4
}
